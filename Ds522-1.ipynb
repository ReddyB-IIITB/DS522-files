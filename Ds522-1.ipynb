{
 "cells": [
  {
   "cell_type": "code",
   "execution_count": 2,
   "id": "4ba10cc1",
   "metadata": {},
   "outputs": [
    {
     "name": "stdout",
     "output_type": "stream",
     "text": [
      "Balakrishna\n"
     ]
    }
   ],
   "source": [
    "print('Balakrishna')"
   ]
  },
  {
   "cell_type": "code",
   "execution_count": 3,
   "id": "8e08164f",
   "metadata": {},
   "outputs": [
    {
     "name": "stdout",
     "output_type": "stream",
     "text": [
      "10\n",
      "hello\n"
     ]
    }
   ],
   "source": [
    "x=10\n",
    "y='hello'\n",
    "print(x)\n",
    "print(y)"
   ]
  },
  {
   "cell_type": "code",
   "execution_count": 4,
   "id": "86e125a3",
   "metadata": {},
   "outputs": [
    {
     "name": "stdout",
     "output_type": "stream",
     "text": [
      "10 hello\n"
     ]
    }
   ],
   "source": [
    "print(x,y)\n"
   ]
  },
  {
   "cell_type": "code",
   "execution_count": 5,
   "id": "132c6bd4",
   "metadata": {},
   "outputs": [
    {
     "name": "stdout",
     "output_type": "stream",
     "text": [
      "the value of x and y = 10 hello\n"
     ]
    }
   ],
   "source": [
    "#the value of x is =10\n",
    "print('the value of x and y =', x, y)"
   ]
  },
  {
   "cell_type": "code",
   "execution_count": 7,
   "id": "15335929",
   "metadata": {},
   "outputs": [
    {
     "name": "stdout",
     "output_type": "stream",
     "text": [
      "the value of x is 10 and y is hello\n"
     ]
    }
   ],
   "source": [
    "# the value of x is 10 and y is hello\n",
    "print('the value of x is', x, 'and y is', y)"
   ]
  },
  {
   "cell_type": "code",
   "execution_count": 8,
   "id": "d9dd918e",
   "metadata": {},
   "outputs": [
    {
     "name": "stdout",
     "output_type": "stream",
     "text": [
      "<class 'int'>\n"
     ]
    }
   ],
   "source": [
    "print(type(x))"
   ]
  },
  {
   "cell_type": "code",
   "execution_count": 9,
   "id": "9c019c28",
   "metadata": {},
   "outputs": [
    {
     "name": "stdout",
     "output_type": "stream",
     "text": [
      "<class 'tuple'>\n"
     ]
    }
   ],
   "source": [
    "z=10,5\n",
    "print(type(z))"
   ]
  },
  {
   "cell_type": "code",
   "execution_count": 11,
   "id": "c96b85b7",
   "metadata": {},
   "outputs": [
    {
     "name": "stdout",
     "output_type": "stream",
     "text": [
      "10.5\n"
     ]
    }
   ],
   "source": [
    "t=10.5\n",
    "print(t)"
   ]
  },
  {
   "cell_type": "code",
   "execution_count": null,
   "id": "ac4d6751",
   "metadata": {},
   "outputs": [],
   "source": []
  }
 ],
 "metadata": {
  "kernelspec": {
   "display_name": "Python 3 (ipykernel)",
   "language": "python",
   "name": "python3"
  },
  "language_info": {
   "codemirror_mode": {
    "name": "ipython",
    "version": 3
   },
   "file_extension": ".py",
   "mimetype": "text/x-python",
   "name": "python",
   "nbconvert_exporter": "python",
   "pygments_lexer": "ipython3",
   "version": "3.9.7"
  }
 },
 "nbformat": 4,
 "nbformat_minor": 5
}
